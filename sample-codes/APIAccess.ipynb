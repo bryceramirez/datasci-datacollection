{
 "cells": [
  {
   "cell_type": "markdown",
   "metadata": {},
   "source": [
    "# Getting data from an API\n",
    "This notebook walks you through some steps in collecting data from Reddit using the Pushshift.io API.\n",
    "\n",
    "We will use the **Python Pushshift.io API Wrapper (PSAW)** which is documented here -> https://psaw.readthedocs.io/en/latest/"
   ]
  },
  {
   "cell_type": "markdown",
   "metadata": {},
   "source": [
    "### Import package\n",
    "This wrapper package allows the searching of public submissions and comments."
   ]
  },
  {
   "cell_type": "code",
   "execution_count": 1,
   "metadata": {},
   "outputs": [],
   "source": [
    "from psaw import PushshiftAPI\n",
    "import pandas as pd\n",
    "\n",
    "api = PushshiftAPI()"
   ]
  },
  {
   "cell_type": "markdown",
   "metadata": {},
   "source": [
    "### Get the 5 most recent posts in all of Reddit"
   ]
  },
  {
   "cell_type": "code",
   "execution_count": 2,
   "metadata": {},
   "outputs": [],
   "source": [
    "posts = api.search_submissions(limit=5, filter=['full_link','author', 'title', 'subreddit', 'created_utc'])\n",
    "results = list(posts)"
   ]
  },
  {
   "cell_type": "code",
   "execution_count": 3,
   "metadata": {},
   "outputs": [
    {
     "data": {
      "text/plain": [
       "submission(author='G7Chameleon', created_utc=1615551958, full_link='https://www.reddit.com/r/ksi/comments/m3gian/i_hope_jj_sees_my_fan_art/', subreddit='ksi', title='I hope JJ sees my fan art', created=1615523158.0, d_={'author': 'G7Chameleon', 'created_utc': 1615551958, 'full_link': 'https://www.reddit.com/r/ksi/comments/m3gian/i_hope_jj_sees_my_fan_art/', 'subreddit': 'ksi', 'title': 'I hope JJ sees my fan art', 'created': 1615523158.0})"
      ]
     },
     "execution_count": 3,
     "metadata": {},
     "output_type": "execute_result"
    }
   ],
   "source": [
    "results[0]"
   ]
  },
  {
   "cell_type": "markdown",
   "metadata": {},
   "source": [
    "### Get the most recent post from r/philippines"
   ]
  },
  {
   "cell_type": "code",
   "execution_count": 4,
   "metadata": {},
   "outputs": [],
   "source": [
    "posts = api.search_submissions(limit=5, subreddit=\"philippines\", filter=['full_link','author', 'title', 'subreddit', 'created_utc'])\n",
    "posts_df = pd.DataFrame([thing.d_ for thing in posts])"
   ]
  },
  {
   "cell_type": "code",
   "execution_count": 5,
   "metadata": {},
   "outputs": [
    {
     "data": {
      "text/html": [
       "<div>\n",
       "<style scoped>\n",
       "    .dataframe tbody tr th:only-of-type {\n",
       "        vertical-align: middle;\n",
       "    }\n",
       "\n",
       "    .dataframe tbody tr th {\n",
       "        vertical-align: top;\n",
       "    }\n",
       "\n",
       "    .dataframe thead th {\n",
       "        text-align: right;\n",
       "    }\n",
       "</style>\n",
       "<table border=\"1\" class=\"dataframe\">\n",
       "  <thead>\n",
       "    <tr style=\"text-align: right;\">\n",
       "      <th></th>\n",
       "      <th>author</th>\n",
       "      <th>created_utc</th>\n",
       "      <th>full_link</th>\n",
       "      <th>subreddit</th>\n",
       "      <th>title</th>\n",
       "      <th>created</th>\n",
       "    </tr>\n",
       "  </thead>\n",
       "  <tbody>\n",
       "    <tr>\n",
       "      <th>0</th>\n",
       "      <td>Shiroganie</td>\n",
       "      <td>1615551692</td>\n",
       "      <td>https://www.reddit.com/r/Philippines/comments/...</td>\n",
       "      <td>Philippines</td>\n",
       "      <td>Best Universities to study for BSCS in the Phi...</td>\n",
       "      <td>1.615523e+09</td>\n",
       "    </tr>\n",
       "    <tr>\n",
       "      <th>1</th>\n",
       "      <td>Jealous_Biscotti_160</td>\n",
       "      <td>1615551598</td>\n",
       "      <td>https://www.reddit.com/r/Philippines/comments/...</td>\n",
       "      <td>Philippines</td>\n",
       "      <td>BIR TIN recovery</td>\n",
       "      <td>1.615523e+09</td>\n",
       "    </tr>\n",
       "    <tr>\n",
       "      <th>2</th>\n",
       "      <td>bokalbo</td>\n",
       "      <td>1615551389</td>\n",
       "      <td>https://www.reddit.com/r/Philippines/comments/...</td>\n",
       "      <td>Philippines</td>\n",
       "      <td>We made a subreddit where you can discover and...</td>\n",
       "      <td>1.615523e+09</td>\n",
       "    </tr>\n",
       "    <tr>\n",
       "      <th>3</th>\n",
       "      <td>AngelofDeath2020</td>\n",
       "      <td>1615551369</td>\n",
       "      <td>https://www.reddit.com/r/Philippines/comments/...</td>\n",
       "      <td>Philippines</td>\n",
       "      <td>'It's on': Philippines' Converge says talks wi...</td>\n",
       "      <td>1.615523e+09</td>\n",
       "    </tr>\n",
       "    <tr>\n",
       "      <th>4</th>\n",
       "      <td>peachiestudio</td>\n",
       "      <td>1615551183</td>\n",
       "      <td>https://www.reddit.com/r/Philippines/comments/...</td>\n",
       "      <td>Philippines</td>\n",
       "      <td>SB19 king of PPOP!</td>\n",
       "      <td>1.615522e+09</td>\n",
       "    </tr>\n",
       "  </tbody>\n",
       "</table>\n",
       "</div>"
      ],
      "text/plain": [
       "                 author  created_utc  \\\n",
       "0            Shiroganie   1615551692   \n",
       "1  Jealous_Biscotti_160   1615551598   \n",
       "2               bokalbo   1615551389   \n",
       "3      AngelofDeath2020   1615551369   \n",
       "4         peachiestudio   1615551183   \n",
       "\n",
       "                                           full_link    subreddit  \\\n",
       "0  https://www.reddit.com/r/Philippines/comments/...  Philippines   \n",
       "1  https://www.reddit.com/r/Philippines/comments/...  Philippines   \n",
       "2  https://www.reddit.com/r/Philippines/comments/...  Philippines   \n",
       "3  https://www.reddit.com/r/Philippines/comments/...  Philippines   \n",
       "4  https://www.reddit.com/r/Philippines/comments/...  Philippines   \n",
       "\n",
       "                                               title       created  \n",
       "0  Best Universities to study for BSCS in the Phi...  1.615523e+09  \n",
       "1                                   BIR TIN recovery  1.615523e+09  \n",
       "2  We made a subreddit where you can discover and...  1.615523e+09  \n",
       "3  'It's on': Philippines' Converge says talks wi...  1.615523e+09  \n",
       "4                                 SB19 king of PPOP!  1.615522e+09  "
      ]
     },
     "execution_count": 5,
     "metadata": {},
     "output_type": "execute_result"
    }
   ],
   "source": [
    "posts_df"
   ]
  },
  {
   "cell_type": "code",
   "execution_count": 6,
   "metadata": {},
   "outputs": [
    {
     "data": {
      "text/plain": [
       "'https://www.reddit.com/r/Philippines/comments/m3gfsg/best_universities_to_study_for_bscs_in_the/'"
      ]
     },
     "execution_count": 6,
     "metadata": {},
     "output_type": "execute_result"
    }
   ],
   "source": [
    "posts_df.loc[0, 'full_link']"
   ]
  },
  {
   "cell_type": "markdown",
   "metadata": {},
   "source": [
    "### Get posts from March 11 in r/philippines"
   ]
  },
  {
   "cell_type": "code",
   "execution_count": 7,
   "metadata": {},
   "outputs": [],
   "source": [
    "import datetime as dt\n",
    "\n",
    "sub=\"philippines\"\n",
    "start=\"2021-03-11\"\n",
    "\n",
    "start_date=pd.to_datetime(start)\n",
    "\n",
    "start_epoch=int(start_date.timestamp())\n",
    "\n",
    "posts = api.search_submissions(limit=10, \n",
    "                               subreddit=sub, \n",
    "                               before=start_epoch,\n",
    "                               filter=['full_link','author', 'title', 'subreddit', 'created_utc'])\n",
    "posts_df = pd.DataFrame([thing.d_ for thing in posts])"
   ]
  },
  {
   "cell_type": "code",
   "execution_count": 8,
   "metadata": {},
   "outputs": [
    {
     "data": {
      "text/html": [
       "<div>\n",
       "<style scoped>\n",
       "    .dataframe tbody tr th:only-of-type {\n",
       "        vertical-align: middle;\n",
       "    }\n",
       "\n",
       "    .dataframe tbody tr th {\n",
       "        vertical-align: top;\n",
       "    }\n",
       "\n",
       "    .dataframe thead th {\n",
       "        text-align: right;\n",
       "    }\n",
       "</style>\n",
       "<table border=\"1\" class=\"dataframe\">\n",
       "  <thead>\n",
       "    <tr style=\"text-align: right;\">\n",
       "      <th></th>\n",
       "      <th>author</th>\n",
       "      <th>created_utc</th>\n",
       "      <th>full_link</th>\n",
       "      <th>subreddit</th>\n",
       "      <th>title</th>\n",
       "      <th>created</th>\n",
       "    </tr>\n",
       "  </thead>\n",
       "  <tbody>\n",
       "    <tr>\n",
       "      <th>0</th>\n",
       "      <td>Intelligent_Ear3155</td>\n",
       "      <td>1615420404</td>\n",
       "      <td>https://www.reddit.com/r/Philippines/comments/...</td>\n",
       "      <td>Philippines</td>\n",
       "      <td>Cuzette is a good jewelry brand, they offer go...</td>\n",
       "      <td>1.615392e+09</td>\n",
       "    </tr>\n",
       "    <tr>\n",
       "      <th>1</th>\n",
       "      <td>ladyfromthedarkside</td>\n",
       "      <td>1615419908</td>\n",
       "      <td>https://www.reddit.com/r/Philippines/comments/...</td>\n",
       "      <td>Philippines</td>\n",
       "      <td>Makati’s strict implementation of wearing of f...</td>\n",
       "      <td>1.615391e+09</td>\n",
       "    </tr>\n",
       "    <tr>\n",
       "      <th>2</th>\n",
       "      <td>Logical_Ad_3556</td>\n",
       "      <td>1615419483</td>\n",
       "      <td>https://www.reddit.com/r/Philippines/comments/...</td>\n",
       "      <td>Philippines</td>\n",
       "      <td>Hong Kong Toymakers Are Philippines’ New Targe...</td>\n",
       "      <td>1.615391e+09</td>\n",
       "    </tr>\n",
       "    <tr>\n",
       "      <th>3</th>\n",
       "      <td>setardo</td>\n",
       "      <td>1615418893</td>\n",
       "      <td>https://www.reddit.com/r/Philippines/comments/...</td>\n",
       "      <td>Philippines</td>\n",
       "      <td>Early Morning Coconut Trees View - Siargao, Ph...</td>\n",
       "      <td>1.615390e+09</td>\n",
       "    </tr>\n",
       "    <tr>\n",
       "      <th>4</th>\n",
       "      <td>CommunicationFar116</td>\n",
       "      <td>1615418058</td>\n",
       "      <td>https://www.reddit.com/r/Philippines/comments/...</td>\n",
       "      <td>Philippines</td>\n",
       "      <td>Filipino on Guam Musician</td>\n",
       "      <td>1.615389e+09</td>\n",
       "    </tr>\n",
       "    <tr>\n",
       "      <th>5</th>\n",
       "      <td>Reach_Round</td>\n",
       "      <td>1615417483</td>\n",
       "      <td>https://www.reddit.com/r/Philippines/comments/...</td>\n",
       "      <td>Philippines</td>\n",
       "      <td>Crypto to Peso ?</td>\n",
       "      <td>1.615389e+09</td>\n",
       "    </tr>\n",
       "    <tr>\n",
       "      <th>6</th>\n",
       "      <td>VeterinarianDry7601</td>\n",
       "      <td>1615415742</td>\n",
       "      <td>https://www.reddit.com/r/Philippines/comments/...</td>\n",
       "      <td>Philippines</td>\n",
       "      <td>https://app.shopback.com/pK2fNgYuweb</td>\n",
       "      <td>1.615387e+09</td>\n",
       "    </tr>\n",
       "    <tr>\n",
       "      <th>7</th>\n",
       "      <td>luvie06</td>\n",
       "      <td>1615414525</td>\n",
       "      <td>https://www.reddit.com/r/Philippines/comments/...</td>\n",
       "      <td>Philippines</td>\n",
       "      <td>PLS ANSWER I need this for my research :((</td>\n",
       "      <td>1.615386e+09</td>\n",
       "    </tr>\n",
       "    <tr>\n",
       "      <th>8</th>\n",
       "      <td>the_yaya</td>\n",
       "      <td>1615413301</td>\n",
       "      <td>https://www.reddit.com/r/Philippines/comments/...</td>\n",
       "      <td>Philippines</td>\n",
       "      <td>Daily random discussion - Mar 11, 2021</td>\n",
       "      <td>1.615385e+09</td>\n",
       "    </tr>\n",
       "    <tr>\n",
       "      <th>9</th>\n",
       "      <td>threehappypenguins</td>\n",
       "      <td>1615411232</td>\n",
       "      <td>https://www.reddit.com/r/Philippines/comments/...</td>\n",
       "      <td>Philippines</td>\n",
       "      <td>Mail Forwarding Service</td>\n",
       "      <td>1.615382e+09</td>\n",
       "    </tr>\n",
       "  </tbody>\n",
       "</table>\n",
       "</div>"
      ],
      "text/plain": [
       "                author  created_utc  \\\n",
       "0  Intelligent_Ear3155   1615420404   \n",
       "1  ladyfromthedarkside   1615419908   \n",
       "2      Logical_Ad_3556   1615419483   \n",
       "3              setardo   1615418893   \n",
       "4  CommunicationFar116   1615418058   \n",
       "5          Reach_Round   1615417483   \n",
       "6  VeterinarianDry7601   1615415742   \n",
       "7              luvie06   1615414525   \n",
       "8             the_yaya   1615413301   \n",
       "9   threehappypenguins   1615411232   \n",
       "\n",
       "                                           full_link    subreddit  \\\n",
       "0  https://www.reddit.com/r/Philippines/comments/...  Philippines   \n",
       "1  https://www.reddit.com/r/Philippines/comments/...  Philippines   \n",
       "2  https://www.reddit.com/r/Philippines/comments/...  Philippines   \n",
       "3  https://www.reddit.com/r/Philippines/comments/...  Philippines   \n",
       "4  https://www.reddit.com/r/Philippines/comments/...  Philippines   \n",
       "5  https://www.reddit.com/r/Philippines/comments/...  Philippines   \n",
       "6  https://www.reddit.com/r/Philippines/comments/...  Philippines   \n",
       "7  https://www.reddit.com/r/Philippines/comments/...  Philippines   \n",
       "8  https://www.reddit.com/r/Philippines/comments/...  Philippines   \n",
       "9  https://www.reddit.com/r/Philippines/comments/...  Philippines   \n",
       "\n",
       "                                               title       created  \n",
       "0  Cuzette is a good jewelry brand, they offer go...  1.615392e+09  \n",
       "1  Makati’s strict implementation of wearing of f...  1.615391e+09  \n",
       "2  Hong Kong Toymakers Are Philippines’ New Targe...  1.615391e+09  \n",
       "3  Early Morning Coconut Trees View - Siargao, Ph...  1.615390e+09  \n",
       "4                          Filipino on Guam Musician  1.615389e+09  \n",
       "5                                   Crypto to Peso ?  1.615389e+09  \n",
       "6               https://app.shopback.com/pK2fNgYuweb  1.615387e+09  \n",
       "7         PLS ANSWER I need this for my research :((  1.615386e+09  \n",
       "8             Daily random discussion - Mar 11, 2021  1.615385e+09  \n",
       "9                            Mail Forwarding Service  1.615382e+09  "
      ]
     },
     "execution_count": 8,
     "metadata": {},
     "output_type": "execute_result"
    }
   ],
   "source": [
    "posts_df"
   ]
  },
  {
   "cell_type": "code",
   "execution_count": null,
   "metadata": {},
   "outputs": [],
   "source": []
  },
  {
   "cell_type": "code",
   "execution_count": null,
   "metadata": {},
   "outputs": [],
   "source": []
  }
 ],
 "metadata": {
  "kernelspec": {
   "display_name": "Python 3",
   "language": "python",
   "name": "python3"
  },
  "language_info": {
   "codemirror_mode": {
    "name": "ipython",
    "version": 3
   },
   "file_extension": ".py",
   "mimetype": "text/x-python",
   "name": "python",
   "nbconvert_exporter": "python",
   "pygments_lexer": "ipython3",
   "version": "3.7.6"
  }
 },
 "nbformat": 4,
 "nbformat_minor": 5
}
